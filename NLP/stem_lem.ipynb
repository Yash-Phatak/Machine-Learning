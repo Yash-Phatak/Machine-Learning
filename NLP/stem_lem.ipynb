{
 "cells": [
  {
   "cell_type": "code",
   "execution_count": 1,
   "id": "9c714444",
   "metadata": {},
   "outputs": [],
   "source": [
    "import nltk"
   ]
  },
  {
   "cell_type": "code",
   "execution_count": 2,
   "id": "8957b96a",
   "metadata": {},
   "outputs": [],
   "source": [
    "from nltk.stem import PorterStemmer"
   ]
  },
  {
   "cell_type": "code",
   "execution_count": 3,
   "id": "38ff0fb3",
   "metadata": {},
   "outputs": [],
   "source": [
    "porter = PorterStemmer();\n"
   ]
  },
  {
   "cell_type": "code",
   "execution_count": 4,
   "id": "c1c9d3b4",
   "metadata": {},
   "outputs": [
    {
     "data": {
      "text/plain": [
       "'walk'"
      ]
     },
     "execution_count": 4,
     "metadata": {},
     "output_type": "execute_result"
    }
   ],
   "source": [
    "porter.stem('walking')"
   ]
  },
  {
   "cell_type": "code",
   "execution_count": 5,
   "id": "b120a342",
   "metadata": {},
   "outputs": [
    {
     "data": {
      "text/plain": [
       "'walk'"
      ]
     },
     "execution_count": 5,
     "metadata": {},
     "output_type": "execute_result"
    }
   ],
   "source": [
    "porter.stem('walks')"
   ]
  },
  {
   "cell_type": "code",
   "execution_count": 7,
   "id": "34375ce2",
   "metadata": {},
   "outputs": [
    {
     "data": {
      "text/plain": [
       "'run'"
      ]
     },
     "execution_count": 7,
     "metadata": {},
     "output_type": "execute_result"
    }
   ],
   "source": [
    "porter.stem(\"running\")"
   ]
  },
  {
   "cell_type": "code",
   "execution_count": 8,
   "id": "27b1e406",
   "metadata": {},
   "outputs": [
    {
     "data": {
      "text/plain": [
       "'ran'"
      ]
     },
     "execution_count": 8,
     "metadata": {},
     "output_type": "execute_result"
    }
   ],
   "source": [
    "porter.stem(\"ran\")"
   ]
  },
  {
   "cell_type": "code",
   "execution_count": 9,
   "id": "e2eaaa3b",
   "metadata": {},
   "outputs": [
    {
     "data": {
      "text/plain": [
       "'replac'"
      ]
     },
     "execution_count": 9,
     "metadata": {},
     "output_type": "execute_result"
    }
   ],
   "source": [
    "porter.stem(\"replacement\")"
   ]
  },
  {
   "cell_type": "code",
   "execution_count": 10,
   "id": "51f1a2fa",
   "metadata": {},
   "outputs": [],
   "source": [
    "sentence  = \"Lemmatization is more sophisticated than stemming\".split()"
   ]
  },
  {
   "cell_type": "code",
   "execution_count": 12,
   "id": "3f39a100",
   "metadata": {},
   "outputs": [
    {
     "name": "stdout",
     "output_type": "stream",
     "text": [
      "lemmat is more sophist than stem "
     ]
    }
   ],
   "source": [
    "for token in sentence:\n",
    "    print(porter.stem(token),end=\" \")"
   ]
  },
  {
   "cell_type": "code",
   "execution_count": 13,
   "id": "cd6f54c9",
   "metadata": {},
   "outputs": [
    {
     "data": {
      "text/plain": [
       "'unnecessari'"
      ]
     },
     "execution_count": 13,
     "metadata": {},
     "output_type": "execute_result"
    }
   ],
   "source": [
    "porter.stem(\"unnecessary\")"
   ]
  },
  {
   "cell_type": "code",
   "execution_count": 14,
   "id": "817b84f1",
   "metadata": {},
   "outputs": [
    {
     "data": {
      "text/plain": [
       "'berri'"
      ]
     },
     "execution_count": 14,
     "metadata": {},
     "output_type": "execute_result"
    }
   ],
   "source": [
    "porter.stem(\"berry\")"
   ]
  },
  {
   "cell_type": "code",
   "execution_count": 15,
   "id": "7ba99402",
   "metadata": {},
   "outputs": [
    {
     "name": "stderr",
     "output_type": "stream",
     "text": [
      "[nltk_data] Downloading package wordnet to C:\\Users\\Yash\n",
      "[nltk_data]     Phatak\\AppData\\Roaming\\nltk_data...\n"
     ]
    },
    {
     "data": {
      "text/plain": [
       "True"
      ]
     },
     "execution_count": 15,
     "metadata": {},
     "output_type": "execute_result"
    }
   ],
   "source": [
    "#Lemmatization\n",
    "nltk.download(\"wordnet\")"
   ]
  },
  {
   "cell_type": "code",
   "execution_count": 23,
   "id": "f596dd74",
   "metadata": {},
   "outputs": [],
   "source": [
    "from nltk.stem import WordNetLemmatizer"
   ]
  },
  {
   "cell_type": "code",
   "execution_count": 24,
   "id": "de428ce5",
   "metadata": {},
   "outputs": [],
   "source": [
    "lemmatizer = WordNetLemmatizer()"
   ]
  },
  {
   "cell_type": "code",
   "execution_count": 27,
   "id": "2567ecfd",
   "metadata": {},
   "outputs": [
    {
     "name": "stderr",
     "output_type": "stream",
     "text": [
      "[nltk_data] Downloading package omw-1.4 to C:\\Users\\Yash\n",
      "[nltk_data]     Phatak\\AppData\\Roaming\\nltk_data...\n"
     ]
    },
    {
     "data": {
      "text/plain": [
       "True"
      ]
     },
     "execution_count": 27,
     "metadata": {},
     "output_type": "execute_result"
    }
   ],
   "source": [
    "nltk.download('omw-1.4')"
   ]
  },
  {
   "cell_type": "code",
   "execution_count": 28,
   "id": "6ce1aca2",
   "metadata": {},
   "outputs": [
    {
     "data": {
      "text/plain": [
       "'walking'"
      ]
     },
     "execution_count": 28,
     "metadata": {},
     "output_type": "execute_result"
    }
   ],
   "source": [
    "lemmatizer.lemmatize(\"walking\") #as the default part of speech was Noun "
   ]
  },
  {
   "cell_type": "code",
   "execution_count": 29,
   "id": "cf69ed90",
   "metadata": {},
   "outputs": [
    {
     "data": {
      "text/plain": [
       "'going'"
      ]
     },
     "execution_count": 29,
     "metadata": {},
     "output_type": "execute_result"
    }
   ],
   "source": [
    "lemmatizer.lemmatize(\"going\")"
   ]
  },
  {
   "cell_type": "code",
   "execution_count": 30,
   "id": "10e64282",
   "metadata": {},
   "outputs": [
    {
     "data": {
      "text/plain": [
       "'go'"
      ]
     },
     "execution_count": 30,
     "metadata": {},
     "output_type": "execute_result"
    }
   ],
   "source": [
    "lemmatizer.lemmatize(\"going\",pos=wordnet.VERB)"
   ]
  },
  {
   "cell_type": "code",
   "execution_count": 31,
   "id": "6665e48b",
   "metadata": {},
   "outputs": [
    {
     "data": {
      "text/plain": [
       "'run'"
      ]
     },
     "execution_count": 31,
     "metadata": {},
     "output_type": "execute_result"
    }
   ],
   "source": [
    "lemmatizer.lemmatize(\"ran\",pos=wordnet.VERB)"
   ]
  },
  {
   "cell_type": "code",
   "execution_count": 32,
   "id": "73612c93",
   "metadata": {},
   "outputs": [
    {
     "data": {
      "text/plain": [
       "'mice'"
      ]
     },
     "execution_count": 32,
     "metadata": {},
     "output_type": "execute_result"
    }
   ],
   "source": [
    "porter.stem(\"mice\")"
   ]
  },
  {
   "cell_type": "code",
   "execution_count": 33,
   "id": "1e1998b5",
   "metadata": {},
   "outputs": [
    {
     "data": {
      "text/plain": [
       "'mouse'"
      ]
     },
     "execution_count": 33,
     "metadata": {},
     "output_type": "execute_result"
    }
   ],
   "source": [
    "lemmatizer.lemmatize(\"mice\")"
   ]
  },
  {
   "cell_type": "code",
   "execution_count": 34,
   "id": "98f0f6b7",
   "metadata": {},
   "outputs": [
    {
     "data": {
      "text/plain": [
       "'wa'"
      ]
     },
     "execution_count": 34,
     "metadata": {},
     "output_type": "execute_result"
    }
   ],
   "source": [
    "porter.stem(\"was\")"
   ]
  },
  {
   "cell_type": "code",
   "execution_count": 35,
   "id": "b8ba46a7",
   "metadata": {},
   "outputs": [
    {
     "data": {
      "text/plain": [
       "'wa'"
      ]
     },
     "execution_count": 35,
     "metadata": {},
     "output_type": "execute_result"
    }
   ],
   "source": [
    "lemmatizer.lemmatize(\"was\")"
   ]
  },
  {
   "cell_type": "code",
   "execution_count": 36,
   "id": "602ae2c6",
   "metadata": {},
   "outputs": [
    {
     "data": {
      "text/plain": [
       "'be'"
      ]
     },
     "execution_count": 36,
     "metadata": {},
     "output_type": "execute_result"
    }
   ],
   "source": [
    "lemmatizer.lemmatize(\"was\",pos=wordnet.VERB)"
   ]
  },
  {
   "cell_type": "code",
   "execution_count": 37,
   "id": "fbd3969a",
   "metadata": {},
   "outputs": [
    {
     "data": {
      "text/plain": [
       "'better'"
      ]
     },
     "execution_count": 37,
     "metadata": {},
     "output_type": "execute_result"
    }
   ],
   "source": [
    "porter.stem(\"better\")"
   ]
  },
  {
   "cell_type": "code",
   "execution_count": 38,
   "id": "3d26c365",
   "metadata": {},
   "outputs": [
    {
     "data": {
      "text/plain": [
       "'better'"
      ]
     },
     "execution_count": 38,
     "metadata": {},
     "output_type": "execute_result"
    }
   ],
   "source": [
    "lemmatizer.lemmatize(\"better\")"
   ]
  },
  {
   "cell_type": "code",
   "execution_count": 39,
   "id": "9e35f716",
   "metadata": {},
   "outputs": [
    {
     "data": {
      "text/plain": [
       "'better'"
      ]
     },
     "execution_count": 39,
     "metadata": {},
     "output_type": "execute_result"
    }
   ],
   "source": [
    "lemmatizer.lemmatize(\"better\",pos=wordnet.VERB)"
   ]
  },
  {
   "cell_type": "code",
   "execution_count": 40,
   "id": "04188884",
   "metadata": {},
   "outputs": [
    {
     "data": {
      "text/plain": [
       "'good'"
      ]
     },
     "execution_count": 40,
     "metadata": {},
     "output_type": "execute_result"
    }
   ],
   "source": [
    "lemmatizer.lemmatize(\"better\",pos=wordnet.ADJ)"
   ]
  },
  {
   "cell_type": "code",
   "execution_count": 43,
   "id": "f79e2a90",
   "metadata": {},
   "outputs": [],
   "source": [
    "def get_wordnet_pos(treebank_tag):\n",
    "    if treebank_tag.startswith('J'):\n",
    "        return wordnet.ADJ\n",
    "    elif treebank_tag.startswith('V'):\n",
    "        return wordnet.VERB\n",
    "    elif treebank_tag.startswith('N'):\n",
    "        return wordnet.NOUN\n",
    "    elif treebank_tag.startswith('R'):\n",
    "        return wordnet.ADV\n",
    "    else:\n",
    "        return wordnet.NOUN"
   ]
  },
  {
   "cell_type": "code",
   "execution_count": 44,
   "id": "27baebe6",
   "metadata": {},
   "outputs": [
    {
     "name": "stderr",
     "output_type": "stream",
     "text": [
      "[nltk_data] Downloading package averaged_perceptron_tagger to\n",
      "[nltk_data]     C:\\Users\\Yash Phatak\\AppData\\Roaming\\nltk_data...\n",
      "[nltk_data]   Unzipping taggers\\averaged_perceptron_tagger.zip.\n"
     ]
    },
    {
     "data": {
      "text/plain": [
       "True"
      ]
     },
     "execution_count": 44,
     "metadata": {},
     "output_type": "execute_result"
    }
   ],
   "source": [
    "nltk.download('averaged_perceptron_tagger')"
   ]
  },
  {
   "cell_type": "code",
   "execution_count": 46,
   "id": "3ea38ae3",
   "metadata": {},
   "outputs": [],
   "source": [
    "sentence = \"Donald Trump has a devoted following\".split()"
   ]
  },
  {
   "cell_type": "code",
   "execution_count": 48,
   "id": "f9a7c093",
   "metadata": {},
   "outputs": [
    {
     "data": {
      "text/plain": [
       "[('Donald', 'NNP'),\n",
       " ('Trump', 'NNP'),\n",
       " ('has', 'VBZ'),\n",
       " ('a', 'DT'),\n",
       " ('devoted', 'VBN'),\n",
       " ('following', 'NN')]"
      ]
     },
     "execution_count": 48,
     "metadata": {},
     "output_type": "execute_result"
    }
   ],
   "source": [
    "words_and_tags = nltk.pos_tag(sentence)\n",
    "words_and_tags #form of tuples"
   ]
  },
  {
   "cell_type": "code",
   "execution_count": 51,
   "id": "f0ecb39c",
   "metadata": {},
   "outputs": [
    {
     "name": "stdout",
     "output_type": "stream",
     "text": [
      "Donald Trump have a devote following "
     ]
    }
   ],
   "source": [
    "for word,tag in words_and_tags:\n",
    "    lemma = lemmatizer.lemmatize(word,pos=get_wordnet_pos(tag))\n",
    "    print(lemma,end=\" \")"
   ]
  },
  {
   "cell_type": "code",
   "execution_count": 52,
   "id": "3fa9e365",
   "metadata": {},
   "outputs": [],
   "source": [
    "sentence = \"The cat was following the bird as it flew by\".split()"
   ]
  },
  {
   "cell_type": "code",
   "execution_count": 53,
   "id": "922cac4a",
   "metadata": {},
   "outputs": [
    {
     "data": {
      "text/plain": [
       "[('The', 'DT'),\n",
       " ('cat', 'NN'),\n",
       " ('was', 'VBD'),\n",
       " ('following', 'VBG'),\n",
       " ('the', 'DT'),\n",
       " ('bird', 'NN'),\n",
       " ('as', 'IN'),\n",
       " ('it', 'PRP'),\n",
       " ('flew', 'VBD'),\n",
       " ('by', 'IN')]"
      ]
     },
     "execution_count": 53,
     "metadata": {},
     "output_type": "execute_result"
    }
   ],
   "source": [
    "words_and_tags = nltk.pos_tag(sentence)\n",
    "words_and_tags #form of tuples"
   ]
  },
  {
   "cell_type": "code",
   "execution_count": 54,
   "id": "3587fddb",
   "metadata": {},
   "outputs": [
    {
     "name": "stdout",
     "output_type": "stream",
     "text": [
      "The cat be follow the bird a it fly by "
     ]
    }
   ],
   "source": [
    "for word,tag in words_and_tags:\n",
    "    lemma = lemmatizer.lemmatize(word,pos=get_wordnet_pos(tag))\n",
    "    print(lemma,end=\" \")"
   ]
  },
  {
   "cell_type": "code",
   "execution_count": null,
   "id": "532505a1",
   "metadata": {},
   "outputs": [],
   "source": []
  }
 ],
 "metadata": {
  "kernelspec": {
   "display_name": "Python 3 (ipykernel)",
   "language": "python",
   "name": "python3"
  },
  "language_info": {
   "codemirror_mode": {
    "name": "ipython",
    "version": 3
   },
   "file_extension": ".py",
   "mimetype": "text/x-python",
   "name": "python",
   "nbconvert_exporter": "python",
   "pygments_lexer": "ipython3",
   "version": "3.9.13"
  }
 },
 "nbformat": 4,
 "nbformat_minor": 5
}
