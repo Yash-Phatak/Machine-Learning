{
 "cells": [
  {
   "cell_type": "code",
   "execution_count": null,
   "id": "9adc01de",
   "metadata": {},
   "outputs": [],
   "source": [
    "#Importing Libraries\n",
    "import numpy as np\n",
    "import pandas as pd\n",
    "import matplotlib.pyplot as plt\n",
    "from sklearn.feature_extraction.text import CountVectorizer\n",
    "from sklearn.naive_bayes import MultinomialNB    #for using the Multinomial Naive Bayes Classifier Model \n",
    "from sklearn.model_selection import train_test_split  "
   ]
  },
  {
   "cell_type": "code",
   "execution_count": null,
   "id": "cdc472e6",
   "metadata": {},
   "outputs": [],
   "source": [
    "import nltk\n",
    "from nltk import word_tokenize\n",
    "from nltk.stem import WordNetLemmatizer,PorterStemmer\n",
    "from nltk.corpus import wordnet"
   ]
  },
  {
   "cell_type": "code",
   "execution_count": null,
   "id": "7bd598fb",
   "metadata": {},
   "outputs": [],
   "source": [
    "#downloading necessary data from NLTK\n",
    "nltk.download(\"wordnet\")\n",
    "nltk.download('punkt')\n",
    "nltk.download('averaged_perceptron_tagger')"
   ]
  },
  {
   "cell_type": "code",
   "execution_count": null,
   "id": "a66bd8bf",
   "metadata": {},
   "outputs": [],
   "source": [
    "data = pd.read_csv('bbc_text_cls.csv')"
   ]
  },
  {
   "cell_type": "code",
   "execution_count": null,
   "id": "d9347d99",
   "metadata": {},
   "outputs": [],
   "source": [
    "data.head()"
   ]
  },
  {
   "cell_type": "code",
   "execution_count": null,
   "id": "37b83a44",
   "metadata": {},
   "outputs": [],
   "source": [
    "X = data['text'] #variables\n",
    "Y = data['labels'] #labels"
   ]
  },
  {
   "cell_type": "code",
   "execution_count": null,
   "id": "11326d07",
   "metadata": {},
   "outputs": [],
   "source": [
    "Y.hist(figsize=(10,5)); #shows the data is balanced"
   ]
  },
  {
   "cell_type": "code",
   "execution_count": null,
   "id": "bb7427e5",
   "metadata": {},
   "outputs": [],
   "source": [
    "train,test,Y_train,Y_test = train_test_split(X,Y,test_size = 0.25,random_state = 0)"
   ]
  },
  {
   "cell_type": "code",
   "execution_count": null,
   "id": "262c5d04",
   "metadata": {},
   "outputs": [],
   "source": [
    "vectorizer = CountVectorizer()"
   ]
  },
  {
   "cell_type": "code",
   "execution_count": null,
   "id": "abdd253b",
   "metadata": {},
   "outputs": [],
   "source": [
    "X_train = vectorizer.fit_transform(train)\n",
    "X_test = vectorizer.transform(test)"
   ]
  },
  {
   "cell_type": "code",
   "execution_count": null,
   "id": "db06552a",
   "metadata": {},
   "outputs": [],
   "source": [
    "#now the text has been converted into numbers and vectors in the form of sparse matrix\n",
    "X_train  "
   ]
  },
  {
   "cell_type": "code",
   "execution_count": null,
   "id": "4732948c",
   "metadata": {},
   "outputs": [],
   "source": [
    "(X_train!=0).sum() #gives the total number of non zero numbers in the sparse matrix"
   ]
  },
  {
   "cell_type": "code",
   "execution_count": null,
   "id": "0bcc6d1b",
   "metadata": {},
   "outputs": [],
   "source": [
    "X_train.shape #gives the number of rows and columns"
   ]
  },
  {
   "cell_type": "code",
   "execution_count": null,
   "id": "363abd66",
   "metadata": {},
   "outputs": [],
   "source": [
    "np.prod(X_train.shape) #gives product ie rows*columns which is total number of elements"
   ]
  },
  {
   "cell_type": "code",
   "execution_count": null,
   "id": "1ba2d7a1",
   "metadata": {},
   "outputs": [],
   "source": [
    "#what percentage of values are non-zero\n",
    "(X_train!=0).sum()/np.prod(X_train.shape)"
   ]
  },
  {
   "cell_type": "code",
   "execution_count": null,
   "id": "9d120255",
   "metadata": {},
   "outputs": [],
   "source": [
    "classifier = MultinomialNB()\n",
    "classifier.fit(X_train,Y_train)"
   ]
  },
  {
   "cell_type": "code",
   "execution_count": null,
   "id": "7a7f3131",
   "metadata": {},
   "outputs": [],
   "source": [
    "print(\"train score:\",classifier.score(X_train,Y_train))\n",
    "print(\"test score:\",classifier.score(X_test,Y_test)) \n",
    "#this is the score we got without applying stopwords or lemmatizing or stemming"
   ]
  },
  {
   "cell_type": "code",
   "execution_count": null,
   "id": "29a4b96e",
   "metadata": {},
   "outputs": [],
   "source": [
    "#with stopwords\n",
    "vectorizer = CountVectorizer(stop_words='english')\n",
    "X_train = vectorizer.fit_transform(train)\n",
    "X_test = vectorizer.transform(test)\n",
    "classifier = MultinomialNB()\n",
    "classifier.fit(X_train,Y_train)\n",
    "print(\"train score:\",classifier.score(X_train,Y_train))\n",
    "print(\"test score:\",classifier.score(X_test,Y_test))"
   ]
  },
  {
   "cell_type": "code",
   "execution_count": null,
   "id": "b612a216",
   "metadata": {},
   "outputs": [],
   "source": [
    "def get_wordnet_pos(treebank_tag):\n",
    "    if treebank_tag.startswith('J'):\n",
    "        return wordnet.ADJ\n",
    "    elif treebank_tag.startswith('V'):\n",
    "        return wordnet.VERB\n",
    "    elif treebank_tag.startswith('N'):\n",
    "        return wordnet.NOUN\n",
    "    elif treebank_tag.startswith('R'):\n",
    "        return wordnet.ADV\n",
    "    else:\n",
    "        return wordnet.NOUN"
   ]
  },
  {
   "cell_type": "code",
   "execution_count": null,
   "id": "5d1ea9e7",
   "metadata": {},
   "outputs": [],
   "source": [
    "class LemmaTokenizer:\n",
    "    def __init__(self):\n",
    "        self.wnl = WordNetLemmatizer()\n",
    "    def __call__(self,doc):\n",
    "        tokens = word_tokenize(doc) #tokenization\n",
    "        words_and_tags = nltk.pos_tag(tokens)\n",
    "        return [self.wnl.lemmatize(word,pos=get_wordnet_pos(tag))\\\n",
    "                for word,tag in words_and_tags]\n",
    "    "
   ]
  },
  {
   "cell_type": "code",
   "execution_count": null,
   "id": "9ee91903",
   "metadata": {},
   "outputs": [],
   "source": [
    "#with Lemmatizer\n",
    "vectorizer = CountVectorizer(tokenizer=LemmaTokenizer())\n",
    "X_train = vectorizer.fit_transform(train)\n",
    "X_test = vectorizer.transform(test)\n",
    "classifier = MultinomialNB()\n",
    "classifier.fit(X_train,Y_train)\n",
    "print(\"train score:\",classifier.score(X_train,Y_train))\n",
    "print(\"test score:\",classifier.score(X_test,Y_test))"
   ]
  },
  {
   "cell_type": "code",
   "execution_count": null,
   "id": "9dbf9ea9",
   "metadata": {},
   "outputs": [],
   "source": []
  }
 ],
 "metadata": {
  "kernelspec": {
   "display_name": "Python 3 (ipykernel)",
   "language": "python",
   "name": "python3"
  },
  "language_info": {
   "codemirror_mode": {
    "name": "ipython",
    "version": 3
   },
   "file_extension": ".py",
   "mimetype": "text/x-python",
   "name": "python",
   "nbconvert_exporter": "python",
   "pygments_lexer": "ipython3",
   "version": "3.9.13"
  }
 },
 "nbformat": 4,
 "nbformat_minor": 5
}
