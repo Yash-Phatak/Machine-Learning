{
 "cells": [
  {
   "cell_type": "code",
   "execution_count": 95,
   "metadata": {},
   "outputs": [],
   "source": [
    "import numpy as np\n",
    "import pandas as pd\n",
    "import matplotlib.pyplot as plt\n",
    "import seaborn as sn\n",
    "import tensorflow as tf\n",
    "from sklearn.model_selection import train_test_split\n",
    "from sklearn.feature_extraction.text import TfidfVectorizer\n",
    "from sklearn.metrics import roc_auc_score,f1_score,confusion_matrix\n",
    "\n",
    "from keras.callbacks import EarlyStopping, ReduceLROnPlateau\n",
    "from keras.regularizers import l2\n",
    "from keras.layers import Dense,Input,Dropout\n",
    "from keras.models import Model,Sequential\n",
    "from keras.losses import BinaryCrossentropy\n",
    "from keras.optimizers import Adam"
   ]
  },
  {
   "cell_type": "code",
   "execution_count": 96,
   "metadata": {},
   "outputs": [],
   "source": [
    "# Setting random seeds to get consistent results\n",
    "np.random.seed(0)\n",
    "tf.random.set_seed(0)"
   ]
  },
  {
   "cell_type": "code",
   "execution_count": 97,
   "metadata": {},
   "outputs": [
    {
     "data": {
      "text/html": [
       "<div>\n",
       "<style scoped>\n",
       "    .dataframe tbody tr th:only-of-type {\n",
       "        vertical-align: middle;\n",
       "    }\n",
       "\n",
       "    .dataframe tbody tr th {\n",
       "        vertical-align: top;\n",
       "    }\n",
       "\n",
       "    .dataframe thead th {\n",
       "        text-align: right;\n",
       "    }\n",
       "</style>\n",
       "<table border=\"1\" class=\"dataframe\">\n",
       "  <thead>\n",
       "    <tr style=\"text-align: right;\">\n",
       "      <th></th>\n",
       "      <th>tweet_id</th>\n",
       "      <th>airline_sentiment</th>\n",
       "      <th>airline_sentiment_confidence</th>\n",
       "      <th>negativereason</th>\n",
       "      <th>negativereason_confidence</th>\n",
       "      <th>airline</th>\n",
       "      <th>airline_sentiment_gold</th>\n",
       "      <th>name</th>\n",
       "      <th>negativereason_gold</th>\n",
       "      <th>retweet_count</th>\n",
       "      <th>text</th>\n",
       "      <th>tweet_coord</th>\n",
       "      <th>tweet_created</th>\n",
       "      <th>tweet_location</th>\n",
       "      <th>user_timezone</th>\n",
       "    </tr>\n",
       "  </thead>\n",
       "  <tbody>\n",
       "    <tr>\n",
       "      <th>0</th>\n",
       "      <td>570306133677760513</td>\n",
       "      <td>neutral</td>\n",
       "      <td>1.0000</td>\n",
       "      <td>NaN</td>\n",
       "      <td>NaN</td>\n",
       "      <td>Virgin America</td>\n",
       "      <td>NaN</td>\n",
       "      <td>cairdin</td>\n",
       "      <td>NaN</td>\n",
       "      <td>0</td>\n",
       "      <td>@VirginAmerica What @dhepburn said.</td>\n",
       "      <td>NaN</td>\n",
       "      <td>2015-02-24 11:35:52 -0800</td>\n",
       "      <td>NaN</td>\n",
       "      <td>Eastern Time (US &amp; Canada)</td>\n",
       "    </tr>\n",
       "    <tr>\n",
       "      <th>1</th>\n",
       "      <td>570301130888122368</td>\n",
       "      <td>positive</td>\n",
       "      <td>0.3486</td>\n",
       "      <td>NaN</td>\n",
       "      <td>0.0000</td>\n",
       "      <td>Virgin America</td>\n",
       "      <td>NaN</td>\n",
       "      <td>jnardino</td>\n",
       "      <td>NaN</td>\n",
       "      <td>0</td>\n",
       "      <td>@VirginAmerica plus you've added commercials t...</td>\n",
       "      <td>NaN</td>\n",
       "      <td>2015-02-24 11:15:59 -0800</td>\n",
       "      <td>NaN</td>\n",
       "      <td>Pacific Time (US &amp; Canada)</td>\n",
       "    </tr>\n",
       "    <tr>\n",
       "      <th>2</th>\n",
       "      <td>570301083672813571</td>\n",
       "      <td>neutral</td>\n",
       "      <td>0.6837</td>\n",
       "      <td>NaN</td>\n",
       "      <td>NaN</td>\n",
       "      <td>Virgin America</td>\n",
       "      <td>NaN</td>\n",
       "      <td>yvonnalynn</td>\n",
       "      <td>NaN</td>\n",
       "      <td>0</td>\n",
       "      <td>@VirginAmerica I didn't today... Must mean I n...</td>\n",
       "      <td>NaN</td>\n",
       "      <td>2015-02-24 11:15:48 -0800</td>\n",
       "      <td>Lets Play</td>\n",
       "      <td>Central Time (US &amp; Canada)</td>\n",
       "    </tr>\n",
       "    <tr>\n",
       "      <th>3</th>\n",
       "      <td>570301031407624196</td>\n",
       "      <td>negative</td>\n",
       "      <td>1.0000</td>\n",
       "      <td>Bad Flight</td>\n",
       "      <td>0.7033</td>\n",
       "      <td>Virgin America</td>\n",
       "      <td>NaN</td>\n",
       "      <td>jnardino</td>\n",
       "      <td>NaN</td>\n",
       "      <td>0</td>\n",
       "      <td>@VirginAmerica it's really aggressive to blast...</td>\n",
       "      <td>NaN</td>\n",
       "      <td>2015-02-24 11:15:36 -0800</td>\n",
       "      <td>NaN</td>\n",
       "      <td>Pacific Time (US &amp; Canada)</td>\n",
       "    </tr>\n",
       "    <tr>\n",
       "      <th>4</th>\n",
       "      <td>570300817074462722</td>\n",
       "      <td>negative</td>\n",
       "      <td>1.0000</td>\n",
       "      <td>Can't Tell</td>\n",
       "      <td>1.0000</td>\n",
       "      <td>Virgin America</td>\n",
       "      <td>NaN</td>\n",
       "      <td>jnardino</td>\n",
       "      <td>NaN</td>\n",
       "      <td>0</td>\n",
       "      <td>@VirginAmerica and it's a really big bad thing...</td>\n",
       "      <td>NaN</td>\n",
       "      <td>2015-02-24 11:14:45 -0800</td>\n",
       "      <td>NaN</td>\n",
       "      <td>Pacific Time (US &amp; Canada)</td>\n",
       "    </tr>\n",
       "  </tbody>\n",
       "</table>\n",
       "</div>"
      ],
      "text/plain": [
       "             tweet_id  ...               user_timezone\n",
       "0  570306133677760513  ...  Eastern Time (US & Canada)\n",
       "1  570301130888122368  ...  Pacific Time (US & Canada)\n",
       "2  570301083672813571  ...  Central Time (US & Canada)\n",
       "3  570301031407624196  ...  Pacific Time (US & Canada)\n",
       "4  570300817074462722  ...  Pacific Time (US & Canada)\n",
       "\n",
       "[5 rows x 15 columns]"
      ]
     },
     "execution_count": 97,
     "metadata": {},
     "output_type": "execute_result"
    }
   ],
   "source": [
    "data = pd.read_csv('AirlineTweets.csv')\n",
    "data.head()"
   ]
  },
  {
   "cell_type": "code",
   "execution_count": 98,
   "metadata": {},
   "outputs": [],
   "source": [
    "data = data[['airline_sentiment','text']]"
   ]
  },
  {
   "cell_type": "code",
   "execution_count": 99,
   "metadata": {},
   "outputs": [
    {
     "data": {
      "text/plain": [
       "<Axes: >"
      ]
     },
     "execution_count": 99,
     "metadata": {},
     "output_type": "execute_result"
    },
    {
     "data": {
      "image/png": "[encoded data removed]",
      "text/plain": [
       "<Figure size 640x480 with 1 Axes>"
      ]
     },
     "metadata": {},
     "output_type": "display_data"
    }
   ],
   "source": [
    "data['airline_sentiment'].hist()"
   ]
  },
  {
   "cell_type": "code",
   "execution_count": 100,
   "metadata": {},
   "outputs": [],
   "source": [
    "# Ignoring all the neutral tweets\n",
    "# Good practice to make a copy as new columns will be assigned to the data frame\n",
    "data = data[data['airline_sentiment']!='neutral'].copy()"
   ]
  },
  {
   "cell_type": "code",
   "execution_count": 101,
   "metadata": {},
   "outputs": [
    {
     "data": {
      "text/html": [
       "<div>\n",
       "<style scoped>\n",
       "    .dataframe tbody tr th:only-of-type {\n",
       "        vertical-align: middle;\n",
       "    }\n",
       "\n",
       "    .dataframe tbody tr th {\n",
       "        vertical-align: top;\n",
       "    }\n",
       "\n",
       "    .dataframe thead th {\n",
       "        text-align: right;\n",
       "    }\n",
       "</style>\n",
       "<table border=\"1\" class=\"dataframe\">\n",
       "  <thead>\n",
       "    <tr style=\"text-align: right;\">\n",
       "      <th></th>\n",
       "      <th>airline_sentiment</th>\n",
       "      <th>text</th>\n",
       "      <th>target</th>\n",
       "    </tr>\n",
       "  </thead>\n",
       "  <tbody>\n",
       "    <tr>\n",
       "      <th>1</th>\n",
       "      <td>positive</td>\n",
       "      <td>@VirginAmerica plus you've added commercials t...</td>\n",
       "      <td>1</td>\n",
       "    </tr>\n",
       "    <tr>\n",
       "      <th>3</th>\n",
       "      <td>negative</td>\n",
       "      <td>@VirginAmerica it's really aggressive to blast...</td>\n",
       "      <td>0</td>\n",
       "    </tr>\n",
       "    <tr>\n",
       "      <th>4</th>\n",
       "      <td>negative</td>\n",
       "      <td>@VirginAmerica and it's a really big bad thing...</td>\n",
       "      <td>0</td>\n",
       "    </tr>\n",
       "    <tr>\n",
       "      <th>5</th>\n",
       "      <td>negative</td>\n",
       "      <td>@VirginAmerica seriously would pay $30 a fligh...</td>\n",
       "      <td>0</td>\n",
       "    </tr>\n",
       "    <tr>\n",
       "      <th>6</th>\n",
       "      <td>positive</td>\n",
       "      <td>@VirginAmerica yes, nearly every time I fly VX...</td>\n",
       "      <td>1</td>\n",
       "    </tr>\n",
       "  </tbody>\n",
       "</table>\n",
       "</div>"
      ],
      "text/plain": [
       "  airline_sentiment                                               text  target\n",
       "1          positive  @VirginAmerica plus you've added commercials t...       1\n",
       "3          negative  @VirginAmerica it's really aggressive to blast...       0\n",
       "4          negative  @VirginAmerica and it's a really big bad thing...       0\n",
       "5          negative  @VirginAmerica seriously would pay $30 a fligh...       0\n",
       "6          positive  @VirginAmerica yes, nearly every time I fly VX...       1"
      ]
     },
     "execution_count": 101,
     "metadata": {},
     "output_type": "execute_result"
    }
   ],
   "source": [
    "target_map = {'positive':1,'negative':0}\n",
    "data['target'] = data['airline_sentiment'].map(target_map)\n",
    "data.head()"
   ]
  },
  {
   "cell_type": "code",
   "execution_count": 102,
   "metadata": {},
   "outputs": [],
   "source": [
    "data_train,data_test = train_test_split(data,random_state=42)"
   ]
  },
  {
   "cell_type": "code",
   "execution_count": 103,
   "metadata": {},
   "outputs": [],
   "source": [
    "vectorizer = TfidfVectorizer(max_features=2000)\n",
    "X_train = vectorizer.fit_transform(data_train['text'])\n",
    "X_test = vectorizer.fit_transform(data_test['text'])"
   ]
  },
  {
   "cell_type": "code",
   "execution_count": 104,
   "metadata": {},
   "outputs": [
    {
     "data": {
      "text/plain": [
       "<8655x2000 sparse matrix of type '<class 'numpy.float64'>'\n",
       "\twith 131089 stored elements in Compressed Sparse Row format>"
      ]
     },
     "execution_count": 104,
     "metadata": {},
     "output_type": "execute_result"
    }
   ],
   "source": [
    "X_train"
   ]
  },
  {
   "cell_type": "code",
   "execution_count": 105,
   "metadata": {},
   "outputs": [],
   "source": [
    "# Data must not be a sparse matrix before passing through tensorflow\n",
    "X_train = X_train.toarray()\n",
    "X_test = X_test.toarray()"
   ]
  },
  {
   "cell_type": "code",
   "execution_count": 106,
   "metadata": {},
   "outputs": [],
   "source": [
    "Y_train = data_train['target']\n",
    "Y_test = data_test['target']"
   ]
  },
  {
   "cell_type": "code",
   "execution_count": 107,
   "metadata": {},
   "outputs": [],
   "source": [
    "# Input dimensions to be defined for the model\n",
    "D = X_train.shape[1] # 1 denotes columns"
   ]
  },
  {
   "cell_type": "code",
   "execution_count": 108,
   "metadata": {},
   "outputs": [],
   "source": [
    "# Building the model \n",
    "# Single layer\n",
    "i =  Input(shape=(D,))\n",
    "x = Dense(1)(i)# sigmoid not mentioned as it is accounted for binary cross entropy ahead\n",
    "\n",
    "model = Model(i,x)"
   ]
  },
  {
   "cell_type": "code",
   "execution_count": 109,
   "metadata": {},
   "outputs": [
    {
     "name": "stdout",
     "output_type": "stream",
     "text": [
      "Model: \"model_6\"\n",
      "_________________________________________________________________\n",
      " Layer (type)                Output Shape              Param #   \n",
      "=================================================================\n",
      " input_7 (InputLayer)        [(None, 2000)]            0         \n",
      "                                                                 \n",
      " dense_7 (Dense)             (None, 1)                 2001      \n",
      "                                                                 \n",
      "=================================================================\n",
      "Total params: 2001 (7.82 KB)\n",
      "Trainable params: 2001 (7.82 KB)\n",
      "Non-trainable params: 0 (0.00 Byte)\n",
      "_________________________________________________________________\n"
     ]
    }
   ],
   "source": [
    "model.summary()"
   ]
  },
  {
   "cell_type": "code",
   "execution_count": 110,
   "metadata": {},
   "outputs": [],
   "source": [
    "model.compile(\n",
    "    loss = BinaryCrossentropy(from_logits=True),\n",
    "    optimizer=Adam(learning_rate=0.01),\n",
    "    metrics=['accuracy']\n",
    ")"
   ]
  },
  {
   "cell_type": "code",
   "execution_count": 111,
   "metadata": {},
   "outputs": [
    {
     "name": "stdout",
     "output_type": "stream",
     "text": [
      "Epoch 1/40\n",
      "68/68 [==============================] - 1s 4ms/step - loss: 0.5040 - accuracy: 0.7920 - val_loss: 0.4979 - val_accuracy: 0.8049\n",
      "Epoch 2/40\n",
      "68/68 [==============================] - 0s 2ms/step - loss: 0.3757 - accuracy: 0.7969 - val_loss: 0.4833 - val_accuracy: 0.8049\n",
      "Epoch 3/40\n",
      "68/68 [==============================] - 0s 2ms/step - loss: 0.3221 - accuracy: 0.8192 - val_loss: 0.4798 - val_accuracy: 0.8056\n",
      "Epoch 4/40\n",
      "68/68 [==============================] - 0s 2ms/step - loss: 0.2850 - accuracy: 0.8449 - val_loss: 0.4779 - val_accuracy: 0.8049\n",
      "Epoch 5/40\n",
      "68/68 [==============================] - 0s 2ms/step - loss: 0.2575 - accuracy: 0.8637 - val_loss: 0.4790 - val_accuracy: 0.8053\n",
      "Epoch 6/40\n",
      "68/68 [==============================] - 0s 2ms/step - loss: 0.2367 - accuracy: 0.8811 - val_loss: 0.4825 - val_accuracy: 0.8056\n",
      "Epoch 7/40\n",
      "68/68 [==============================] - 0s 2ms/step - loss: 0.2202 - accuracy: 0.8928 - val_loss: 0.4870 - val_accuracy: 0.8039\n",
      "Epoch 8/40\n",
      "68/68 [==============================] - 0s 2ms/step - loss: 0.2068 - accuracy: 0.9027 - val_loss: 0.4912 - val_accuracy: 0.8039\n",
      "Epoch 9/40\n",
      "68/68 [==============================] - 0s 2ms/step - loss: 0.1956 - accuracy: 0.9102 - val_loss: 0.4972 - val_accuracy: 0.8049\n",
      "Epoch 10/40\n",
      "68/68 [==============================] - 0s 2ms/step - loss: 0.1860 - accuracy: 0.9151 - val_loss: 0.5040 - val_accuracy: 0.8028\n",
      "Epoch 11/40\n",
      "68/68 [==============================] - 0s 1ms/step - loss: 0.1777 - accuracy: 0.9195 - val_loss: 0.5111 - val_accuracy: 0.8008\n",
      "Epoch 12/40\n",
      "68/68 [==============================] - 0s 1ms/step - loss: 0.1705 - accuracy: 0.9243 - val_loss: 0.5190 - val_accuracy: 0.7994\n",
      "Epoch 13/40\n",
      "68/68 [==============================] - 0s 1ms/step - loss: 0.1641 - accuracy: 0.9264 - val_loss: 0.5268 - val_accuracy: 0.7956\n",
      "Epoch 14/40\n",
      "68/68 [==============================] - 0s 1ms/step - loss: 0.1585 - accuracy: 0.9313 - val_loss: 0.5351 - val_accuracy: 0.7942\n",
      "Epoch 15/40\n",
      "68/68 [==============================] - 0s 2ms/step - loss: 0.1534 - accuracy: 0.9334 - val_loss: 0.5441 - val_accuracy: 0.7938\n",
      "Epoch 16/40\n",
      "68/68 [==============================] - 0s 1ms/step - loss: 0.1486 - accuracy: 0.9361 - val_loss: 0.5522 - val_accuracy: 0.7914\n",
      "Epoch 17/40\n",
      "68/68 [==============================] - 0s 1ms/step - loss: 0.1443 - accuracy: 0.9390 - val_loss: 0.5605 - val_accuracy: 0.7897\n",
      "Epoch 18/40\n",
      "68/68 [==============================] - 0s 1ms/step - loss: 0.1404 - accuracy: 0.9419 - val_loss: 0.5701 - val_accuracy: 0.7883\n",
      "Epoch 19/40\n",
      "68/68 [==============================] - 0s 2ms/step - loss: 0.1368 - accuracy: 0.9423 - val_loss: 0.5789 - val_accuracy: 0.7876\n",
      "Epoch 20/40\n",
      "68/68 [==============================] - 0s 1ms/step - loss: 0.1335 - accuracy: 0.9440 - val_loss: 0.5878 - val_accuracy: 0.7866\n",
      "Epoch 21/40\n",
      "68/68 [==============================] - 0s 1ms/step - loss: 0.1303 - accuracy: 0.9448 - val_loss: 0.5966 - val_accuracy: 0.7841\n",
      "Epoch 22/40\n",
      "68/68 [==============================] - 0s 2ms/step - loss: 0.1274 - accuracy: 0.9470 - val_loss: 0.6060 - val_accuracy: 0.7824\n",
      "Epoch 23/40\n",
      "68/68 [==============================] - 0s 2ms/step - loss: 0.1246 - accuracy: 0.9478 - val_loss: 0.6147 - val_accuracy: 0.7814\n",
      "Epoch 24/40\n",
      "68/68 [==============================] - 0s 1ms/step - loss: 0.1220 - accuracy: 0.9508 - val_loss: 0.6247 - val_accuracy: 0.7814\n",
      "Epoch 25/40\n",
      "68/68 [==============================] - 0s 2ms/step - loss: 0.1196 - accuracy: 0.9496 - val_loss: 0.6331 - val_accuracy: 0.7796\n",
      "Epoch 26/40\n",
      "68/68 [==============================] - 0s 2ms/step - loss: 0.1174 - accuracy: 0.9526 - val_loss: 0.6429 - val_accuracy: 0.7800\n",
      "Epoch 27/40\n",
      "68/68 [==============================] - 0s 2ms/step - loss: 0.1152 - accuracy: 0.9540 - val_loss: 0.6520 - val_accuracy: 0.7800\n",
      "Epoch 28/40\n",
      "68/68 [==============================] - 0s 2ms/step - loss: 0.1130 - accuracy: 0.9534 - val_loss: 0.6612 - val_accuracy: 0.7786\n",
      "Epoch 29/40\n",
      "68/68 [==============================] - 0s 2ms/step - loss: 0.1111 - accuracy: 0.9566 - val_loss: 0.6717 - val_accuracy: 0.7789\n",
      "Epoch 30/40\n",
      "68/68 [==============================] - 0s 2ms/step - loss: 0.1093 - accuracy: 0.9552 - val_loss: 0.6797 - val_accuracy: 0.7769\n",
      "Epoch 31/40\n",
      "68/68 [==============================] - 0s 2ms/step - loss: 0.1074 - accuracy: 0.9574 - val_loss: 0.6887 - val_accuracy: 0.7762\n",
      "Epoch 32/40\n",
      "68/68 [==============================] - 0s 2ms/step - loss: 0.1058 - accuracy: 0.9584 - val_loss: 0.6968 - val_accuracy: 0.7755\n",
      "Epoch 33/40\n",
      "68/68 [==============================] - 0s 2ms/step - loss: 0.1041 - accuracy: 0.9594 - val_loss: 0.7067 - val_accuracy: 0.7751\n",
      "Epoch 34/40\n",
      "68/68 [==============================] - 0s 2ms/step - loss: 0.1025 - accuracy: 0.9603 - val_loss: 0.7174 - val_accuracy: 0.7748\n",
      "Epoch 35/40\n",
      "68/68 [==============================] - 0s 2ms/step - loss: 0.1010 - accuracy: 0.9603 - val_loss: 0.7258 - val_accuracy: 0.7744\n",
      "Epoch 36/40\n",
      "68/68 [==============================] - 0s 2ms/step - loss: 0.0996 - accuracy: 0.9620 - val_loss: 0.7356 - val_accuracy: 0.7730\n",
      "Epoch 37/40\n",
      "68/68 [==============================] - 0s 1ms/step - loss: 0.0982 - accuracy: 0.9621 - val_loss: 0.7447 - val_accuracy: 0.7727\n",
      "Epoch 38/40\n",
      "68/68 [==============================] - 0s 2ms/step - loss: 0.0968 - accuracy: 0.9633 - val_loss: 0.7537 - val_accuracy: 0.7723\n",
      "Epoch 39/40\n",
      "68/68 [==============================] - 0s 1ms/step - loss: 0.0956 - accuracy: 0.9633 - val_loss: 0.7626 - val_accuracy: 0.7717\n",
      "Epoch 40/40\n",
      "68/68 [==============================] - 0s 2ms/step - loss: 0.0943 - accuracy: 0.9651 - val_loss: 0.7735 - val_accuracy: 0.7720\n"
     ]
    }
   ],
   "source": [
    "r = model.fit(\n",
    "    X_train,Y_train,\n",
    "    validation_data=(X_test,Y_test),\n",
    "    epochs=40,\n",
    "    batch_size=128,\n",
    ")"
   ]
  },
  {
   "cell_type": "code",
   "execution_count": 112,
   "metadata": {},
   "outputs": [
    {
     "data": {
      "image/png": "[encoded data removed]",
      "text/plain": [
       "<Figure size 640x480 with 1 Axes>"
      ]
     },
     "metadata": {},
     "output_type": "display_data"
    }
   ],
   "source": [
    "# Plot loss per iteration \n",
    "plt.plot(r.history['loss'],label='train loss')\n",
    "plt.plot(r.history['val_loss'],label='val loss')\n",
    "plt.legend();"
   ]
  },
  {
   "cell_type": "code",
   "execution_count": 113,
   "metadata": {},
   "outputs": [
    {
     "data": {
      "image/png": "[encoded data removed]",
      "text/plain": [
       "<Figure size 640x480 with 1 Axes>"
      ]
     },
     "metadata": {},
     "output_type": "display_data"
    }
   ],
   "source": [
    "plt.plot(r.history['accuracy'],label='train acc')\n",
    "plt.plot(r.history['val_accuracy'],label='val acc')\n",
    "plt.legend();"
   ]
  },
  {
   "cell_type": "code",
   "execution_count": null,
   "metadata": {},
   "outputs": [],
   "source": []
  }
 ],
 "metadata": {
  "kernelspec": {
   "display_name": "Python 3",
   "language": "python",
   "name": "python3"
  },
  "language_info": {
   "codemirror_mode": {
    "name": "ipython",
    "version": 3
   },
   "file_extension": ".py",
   "mimetype": "text/x-python",
   "name": "python",
   "nbconvert_exporter": "python",
   "pygments_lexer": "ipython3",
   "version": "3.11.3"
  }
 },
 "nbformat": 4,
 "nbformat_minor": 2
}
