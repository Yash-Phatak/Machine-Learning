{
 "cells": [
  {
   "cell_type": "code",
   "execution_count": 5,
   "metadata": {},
   "outputs": [],
   "source": [
    "import re\n",
    "import random"
   ]
  },
  {
   "cell_type": "code",
   "execution_count": 6,
   "metadata": {},
   "outputs": [],
   "source": [
    "class RuleBot:\n",
    "    #Potential Negative Responses\n",
    "    negative_responses = (\"no\",\"nah\",\"naw\",\"not a chance\",\"nein\",\"sorry\",\"nope\")\n",
    "    #Exit Convo Keywords\n",
    "    exit_commands = (\"quit\",\"pause\",\"exit\",\"bye\",\"goodbye\",\"later\",\"ttyl\",\"see ya\")\n",
    "    #Random Starter Questions\n",
    "    random_questions = (\n",
    "        \"Why are you here?\",\n",
    "        \"Are there many humans like you\",\n",
    "        \"What do you consume for sustainance\",\n",
    "        \"Is there intelligent life on this planet\",\n",
    "        \"Does Earth have a leader?\",\n",
    "        \"What Planets have you visited?\",\n",
    "        \"Are humans soo boring?\",\n",
    "        \"What Technology do you have on this planet?\"\n",
    "    )\n",
    "    def __init__(self):\n",
    "        self.alienbabble = {\n",
    "            'describe_planet_intent':r'.*\\s*your planet.*',\n",
    "            'answer_why_intent':r'why\\sare.*',\n",
    "            'about_yash':r'.*\\s*yash'\n",
    "        }\n",
    "    def greet(self):\n",
    "        self.name = input(\"What is your name?\\n\")\n",
    "        will_help = input(\n",
    "            f\"Hi {self.name}, I am a Rule-Bot. Will you help me learn about your planet?\\n\")\n",
    "        if will_help in self.negative_responses:\n",
    "            print(\"Okay, have a nice Earth Day!\")\n",
    "            return\n",
    "        self.chat()\n",
    "    def make_exit(self,reply):\n",
    "        for command in self.exit_commands:\n",
    "            if reply==command:\n",
    "                print(\"Okay, Have a nice Earth Day!\")\n",
    "                return True\n",
    "    \n",
    "    def chat(self):\n",
    "        reply = input(random.choice(self.random_questions)).lower()\n",
    "        while not self.make_exit(reply):\n",
    "            reply=input(self.match_reply(reply))\n",
    "    \n",
    "    def match_reply(self,reply):\n",
    "        for key,value in self.alienbabble.items():\n",
    "            intent=key\n",
    "            regex_pattern = value\n",
    "            match_found = re.match(regex_pattern,reply)\n",
    "            if match_found and intent=='answer_why_intent':\n",
    "                return self.answer_why_intent()\n",
    "            elif match_found and intent=='describe_planet_intent':\n",
    "                return self.describe_planet_intent()\n",
    "            elif match_found and intent=='about_yash':\n",
    "                return self.about_yash()\n",
    "        if not match_found:\n",
    "            return self.no_match_intent()\n",
    "        \n",
    "    def describe_planet_intent(self):\n",
    "        responses = (\"My Planet is a utopia of diverse organisms and species.\\n\",\"I am from Opidipus, the capital of the Wayward Galaxies.\\n\")\n",
    "        return random.choice(responses)\n",
    "\n",
    "    def answer_why_intent(self):\n",
    "        responses = (\"I come in peace\\n\",\"I have come to collect data on your planet and its inhabitants\\n\",\"I heard the coffee is good\\n\")\n",
    "        return random.choice(responses)\n",
    "    \n",
    "    def about_yash(self):\n",
    "        responses=(\"Yash is a third year CSE Student currently pursuing his BTech in VIT,Vellore\",\"Yash is a Machine Learning Enthusiast\",\"Yash has made this AlienBot\")\n",
    "        return random.choice(responses)\n",
    "    \n",
    "    def no_match_intent(self):\n",
    "        reponses=(\n",
    "            \"Please tell me more.\\n\",\"Tell me more!\\n\",\"Why do you say that?\\n\",\"Hmmm.Can you elaborate?\\n\",\n",
    "            \"Interesting!Please let me know more!\\n\",\"Why?\\n\",\"How do you think I feel when you say that?\\n\"\n",
    "        )\n",
    "        return random.choice(reponses)\n"
   ]
  },
  {
   "cell_type": "code",
   "execution_count": 7,
   "metadata": {},
   "outputs": [
    {
     "name": "stdout",
     "output_type": "stream",
     "text": [
      "Okay, Have a nice Earth Day!\n"
     ]
    }
   ],
   "source": [
    "AlienBot = RuleBot()\n",
    "AlienBot.greet()"
   ]
  }
 ],
 "metadata": {
  "kernelspec": {
   "display_name": "Python 3 (ipykernel)",
   "language": "python",
   "name": "python3"
  },
  "language_info": {
   "codemirror_mode": {
    "name": "ipython",
    "version": 3
   },
   "file_extension": ".py",
   "mimetype": "text/x-python",
   "name": "python",
   "nbconvert_exporter": "python",
   "pygments_lexer": "ipython3",
   "version": "3.11.3"
  }
 },
 "nbformat": 4,
 "nbformat_minor": 2
}
